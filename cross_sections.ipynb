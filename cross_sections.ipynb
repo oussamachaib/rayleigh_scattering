{
 "cells": [
  {
   "cell_type": "code",
   "execution_count": 321,
   "id": "915ffa7b",
   "metadata": {},
   "outputs": [],
   "source": [
    "import numpy as np\n",
    "import matplotlib.pyplot as plt\n",
    "import scipy.io as sci\n",
    "import cantera as ct\n",
    "import time"
   ]
  },
  {
   "cell_type": "code",
   "execution_count": 322,
   "id": "10ba69f4",
   "metadata": {},
   "outputs": [],
   "source": [
    "# Constants\n",
    "M_N = 14; # Molar mass (g/mol)\n",
    "M_O = 16;\n",
    "M_C = 12;\n",
    "M_H = 1;\n",
    "M_Ar = 40;"
   ]
  },
  {
   "cell_type": "code",
   "execution_count": 323,
   "id": "63a7ee91",
   "metadata": {},
   "outputs": [],
   "source": [
    "# Experimental conditions - Defined by the user\n",
    "p = ct.one_atm; # Pressure (atm)\n",
    "temp = 300; # Temperature (K)\n",
    "phi = 1.83; # Equivalence ratio (-)\n",
    "chi_h2 = 0; # Hydrogen volumetric fraction (-)\n",
    "chi_ch4 = 1-chi_h2; # Methane volumetric fraction (-)"
   ]
  },
  {
   "cell_type": "code",
   "execution_count": 324,
   "id": "a2a02cdf",
   "metadata": {},
   "outputs": [],
   "source": [
    "# Balancing chemical equation\n",
    "w = (4-3*chi_h2)/2; # Air weight (balanced by hand)\n",
    "beta = .79/.21; # Nitrogen fraction in air (-)\n",
    "n_dil_Ar = 0; # Argon moles used to dilute the mixture for Ea measurements (i.e., 0 to 0.2 moles)\n",
    "n_dil_N2 = n_dil_Ar*M_Ar/(2*M_N); # Equivalent mass of di-nitrogen"
   ]
  },
  {
   "cell_type": "code",
   "execution_count": 325,
   "id": "19a2a682",
   "metadata": {},
   "outputs": [],
   "source": [
    "# Initiating time counter\n",
    "start = time.time()"
   ]
  },
  {
   "cell_type": "code",
   "execution_count": 326,
   "id": "b6991f80",
   "metadata": {},
   "outputs": [],
   "source": [
    "# Setting up Cantera simulation\n",
    "# Reactants and molar fractions (-)\n",
    "reactants = {'CH4':chi_ch4, 'H2':chi_h2, 'O2':w/phi, 'N2':beta*w/phi-n_dil_N2, 'Ar':n_dil_Ar};\n",
    "width = .01; # Domain width (m)\n",
    "loglevel = 0; # Flag to display verbose output during solving (0 to 5, 0 being no verbose)\n",
    "gas = ct.Solution('gri30.yaml'); # Reaction mechanism\n",
    "gas.TPX = temp, p, reactants; # Supplying experimental conditions "
   ]
  },
  {
   "cell_type": "code",
   "execution_count": 327,
   "id": "3d9770d2",
   "metadata": {},
   "outputs": [
    {
     "data": {
      "text/plain": [
       "[47, 3, 15, 48, 5, 13, 14, 0, 4, 24, 40, 1, 35, 2, 12, 50, 17]"
      ]
     },
     "execution_count": 327,
     "metadata": {},
     "output_type": "execute_result"
    }
   ],
   "source": [
    "# Locating relevant species\n",
    "#relevant_species = [\"CH4\",\"H2\",\"O2\",\"N2\",\"CO2\",\"H2O\"];\n",
    "relevant_species = [\"N2\",\"O2\",\"CO2\",\"AR\",\"H2O\",\"CH4\",\"CO\",\"H2\",\"OH\",\"C2H4\",\"HCN\",\"H\",\"NO\",\"O\",\"CH3\",\"C3H8\",\"CH2O\"];\n",
    "relevant_species_index = [gas.species_index(i) for i in gas.species_names and relevant_species];\n",
    "relevant_species_index"
   ]
  },
  {
   "cell_type": "code",
   "execution_count": 328,
   "id": "dcd55155",
   "metadata": {},
   "outputs": [],
   "source": [
    "# Relevant species scattering cross-sections (normalized by sigma_N2)\n",
    "sigma_species = np.asarray([1,.859,2.427,.865,.695,2.134,1.245,.216,1.486,5.803,1.689,.148,.983,.171,1.577,12.2,1.99]);"
   ]
  },
  {
   "cell_type": "code",
   "execution_count": 329,
   "id": "40489643",
   "metadata": {},
   "outputs": [],
   "source": [
    "# Setting up flame object\n",
    "f = ct.FreeFlame(gas,width = width)\n",
    "f.set_refine_criteria(ratio=3, slope=0.06, curve=0.12)"
   ]
  },
  {
   "cell_type": "code",
   "execution_count": 330,
   "id": "f2bea2b3",
   "metadata": {},
   "outputs": [],
   "source": [
    "# Solve with mixture-averaged transport model\n",
    "f.transport_model = 'Mix';\n",
    "f.solve(loglevel=loglevel, auto=True);"
   ]
  },
  {
   "cell_type": "code",
   "execution_count": 331,
   "id": "6ef19097",
   "metadata": {},
   "outputs": [],
   "source": [
    "# Setting up dictionary of quantities to be saved\n",
    "dicto = {'species':relevant_species,'sigma_species':sigma_species,'Lx':f.grid,'Yi':f.Y[relevant_species_index,:],'Xi':f.X[relevant_species_index,:],'T':f.T,'HRR':f.heat_release_rate, 'Di':f.mix_diff_coeffs_mass[relevant_species_index,:], 'rho':f.density, 'nu':f.viscosity, 'lambda':f.thermal_conductivity, 'cp':f.cp, 's':f.velocity, 'phi':phi, 'chi_h2':chi_h2};"
   ]
  },
  {
   "cell_type": "code",
   "execution_count": 332,
   "id": "2f69afd0",
   "metadata": {},
   "outputs": [],
   "source": [
    "# Saving into .mat file -- Not needed\n",
    "save_name = \"simulation/\"+str(int(chi_h2*100))+\"h2_\"+str(round(phi,2))+\"phi\"+\"_sim.mat\";\n",
    "sci.savemat(save_name,mdict=dicto);"
   ]
  },
  {
   "cell_type": "code",
   "execution_count": 333,
   "id": "e2cce43c",
   "metadata": {
    "scrolled": true
   },
   "outputs": [
    {
     "name": "stdout",
     "output_type": "stream",
     "text": [
      "Time elapsed : 9.44 seconds.\n"
     ]
    }
   ],
   "source": [
    "print(\"Time elapsed : \" + str(round((time.time()-start),2)) + \" seconds.\")"
   ]
  },
  {
   "cell_type": "code",
   "execution_count": 334,
   "id": "eb7b5c7a",
   "metadata": {},
   "outputs": [
    {
     "name": "stdout",
     "output_type": "stream",
     "text": [
      "Adiabatic flame temperature : 1746.0 (K)\n",
      "Unstretched laminar flame speed : 5.25e-02 (m/s)\n",
      "Unstretched laminar flame thickness: 2.48e-03 (m)\n"
     ]
    }
   ],
   "source": [
    "print(\"Adiabatic flame temperature : \"+ str(round(max(f.T),0)) +\" (K)\")\n",
    "print(\"Unstretched laminar flame speed : \"+ str(\"{:.2e}\".format(f.velocity[0])) +\" (m/s)\")\n",
    "print(\"Unstretched laminar flame thickness: \"+ str(\"{:.2e}\".format((f.T[-1]-f.T[0])/max(np.gradient(f.T,f.grid)))) +\" (m)\")"
   ]
  },
  {
   "cell_type": "code",
   "execution_count": 335,
   "id": "48d22a06",
   "metadata": {},
   "outputs": [
    {
     "data": {
      "text/plain": [
       "[<matplotlib.lines.Line2D at 0x7fedce9342b0>]"
      ]
     },
     "execution_count": 335,
     "metadata": {},
     "output_type": "execute_result"
    },
    {
     "data": {
      "image/png": "[encoded data removed]",
      "text/plain": [
       "<Figure size 640x480 with 1 Axes>"
      ]
     },
     "metadata": {},
     "output_type": "display_data"
    }
   ],
   "source": [
    "plt.plot(f.grid,f.T)"
   ]
  },
  {
   "cell_type": "code",
   "execution_count": 336,
   "id": "e09b46c6",
   "metadata": {},
   "outputs": [
    {
     "data": {
      "text/plain": [
       "<matplotlib.legend.Legend at 0x7fedce9346a0>"
      ]
     },
     "execution_count": 336,
     "metadata": {},
     "output_type": "execute_result"
    },
    {
     "data": {
      "image/png": "[encoded data removed]",
      "text/plain": [
       "<Figure size 640x480 with 1 Axes>"
      ]
     },
     "metadata": {},
     "output_type": "display_data"
    }
   ],
   "source": [
    "[plt.plot(f.grid,f.Y[i],label = gas.species_name(i)) for i in relevant_species_index]\n",
    "plt.legend()"
   ]
  },
  {
   "cell_type": "code",
   "execution_count": 337,
   "id": "bd5b5818",
   "metadata": {},
   "outputs": [
    {
     "ename": "ValueError",
     "evalue": "operands could not be broadcast together with shapes (17,130) (17,) ",
     "output_type": "error",
     "traceback": [
      "\u001b[0;31m---------------------------------------------------------------------------\u001b[0m",
      "\u001b[0;31mValueError\u001b[0m                                Traceback (most recent call last)",
      "\u001b[0;32m/var/folders/5z/_3797cm514g_fz_ch8y7grmm0000gn/T/ipykernel_1380/2961045761.py\u001b[0m in \u001b[0;36m<module>\u001b[0;34m\u001b[0m\n\u001b[0;32m----> 1\u001b[0;31m \u001b[0mnp\u001b[0m\u001b[0;34m.\u001b[0m\u001b[0mmultiply\u001b[0m\u001b[0;34m(\u001b[0m\u001b[0mf\u001b[0m\u001b[0;34m.\u001b[0m\u001b[0mY\u001b[0m\u001b[0;34m[\u001b[0m\u001b[0mrelevant_species_index\u001b[0m\u001b[0;34m,\u001b[0m\u001b[0;34m:\u001b[0m\u001b[0;34m]\u001b[0m\u001b[0;34m,\u001b[0m\u001b[0msigma_species\u001b[0m\u001b[0;34m)\u001b[0m\u001b[0;34m\u001b[0m\u001b[0;34m\u001b[0m\u001b[0m\n\u001b[0m",
      "\u001b[0;31mValueError\u001b[0m: operands could not be broadcast together with shapes (17,130) (17,) "
     ]
    }
   ],
   "source": [
    "np.multiply(f.Y[relevant_species_index,:],sigma_species)"
   ]
  },
  {
   "cell_type": "code",
   "execution_count": null,
   "id": "62b59eb5",
   "metadata": {},
   "outputs": [],
   "source": [
    "sigma_species"
   ]
  },
  {
   "cell_type": "code",
   "execution_count": null,
   "id": "ab28b4c0",
   "metadata": {},
   "outputs": [],
   "source": [
    "np.transpose(sigma_species)"
   ]
  },
  {
   "cell_type": "code",
   "execution_count": null,
   "id": "fcbe0a59",
   "metadata": {},
   "outputs": [],
   "source": [
    "np.squeeze(f.Y[relevant_species_index,:]).reshape(17, 180)"
   ]
  },
  {
   "cell_type": "code",
   "execution_count": null,
   "id": "bf8ee1cf",
   "metadata": {},
   "outputs": [],
   "source": [
    "np.asarray(sigma_species)*f.Y[relevant_species_index,:]"
   ]
  },
  {
   "cell_type": "code",
   "execution_count": null,
   "id": "57705d98",
   "metadata": {},
   "outputs": [],
   "source": [
    "type(f.Y[relevant_species_index,:])"
   ]
  },
  {
   "cell_type": "code",
   "execution_count": null,
   "id": "bd35dcea",
   "metadata": {},
   "outputs": [],
   "source": [
    "type(sigma_species)"
   ]
  },
  {
   "cell_type": "code",
   "execution_count": null,
   "id": "f931d1f8",
   "metadata": {},
   "outputs": [],
   "source": [
    "type(np.asarray(sigma_species))"
   ]
  },
  {
   "cell_type": "code",
   "execution_count": null,
   "id": "520a9e7c",
   "metadata": {},
   "outputs": [],
   "source": [
    "(np.asarray(sigma_species)[:,None] @ f.Y[relevant_species_index,:]).shape"
   ]
  },
  {
   "cell_type": "code",
   "execution_count": null,
   "id": "b071b03b",
   "metadata": {},
   "outputs": [],
   "source": [
    "sigma_species.shape"
   ]
  },
  {
   "cell_type": "code",
   "execution_count": null,
   "id": "a16db291",
   "metadata": {},
   "outputs": [],
   "source": []
  },
  {
   "cell_type": "code",
   "execution_count": null,
   "id": "71d44399",
   "metadata": {},
   "outputs": [],
   "source": []
  },
  {
   "cell_type": "code",
   "execution_count": null,
   "id": "f4deaf19",
   "metadata": {},
   "outputs": [],
   "source": []
  },
  {
   "cell_type": "code",
   "execution_count": null,
   "id": "caad34b7",
   "metadata": {},
   "outputs": [],
   "source": []
  },
  {
   "cell_type": "code",
   "execution_count": null,
   "id": "bd2bf896",
   "metadata": {},
   "outputs": [],
   "source": []
  },
  {
   "cell_type": "code",
   "execution_count": null,
   "id": "0c32f582",
   "metadata": {},
   "outputs": [],
   "source": []
  },
  {
   "cell_type": "code",
   "execution_count": null,
   "id": "6d7f438e",
   "metadata": {},
   "outputs": [],
   "source": []
  },
  {
   "cell_type": "code",
   "execution_count": null,
   "id": "ff9041e4",
   "metadata": {},
   "outputs": [],
   "source": []
  },
  {
   "cell_type": "code",
   "execution_count": null,
   "id": "503797f2",
   "metadata": {},
   "outputs": [],
   "source": []
  },
  {
   "cell_type": "code",
   "execution_count": null,
   "id": "20c6098a",
   "metadata": {},
   "outputs": [],
   "source": []
  },
  {
   "cell_type": "code",
   "execution_count": null,
   "id": "8fa57f6d",
   "metadata": {},
   "outputs": [],
   "source": []
  },
  {
   "cell_type": "code",
   "execution_count": null,
   "id": "0981d5ae",
   "metadata": {},
   "outputs": [],
   "source": []
  },
  {
   "cell_type": "code",
   "execution_count": null,
   "id": "1d299789",
   "metadata": {},
   "outputs": [],
   "source": []
  },
  {
   "cell_type": "code",
   "execution_count": null,
   "id": "e17c17da",
   "metadata": {},
   "outputs": [],
   "source": []
  },
  {
   "cell_type": "code",
   "execution_count": null,
   "id": "86e8ec2c",
   "metadata": {},
   "outputs": [],
   "source": []
  }
 ],
 "metadata": {
  "kernelspec": {
   "display_name": "Python 3 (ipykernel)",
   "language": "python",
   "name": "python3"
  },
  "language_info": {
   "codemirror_mode": {
    "name": "ipython",
    "version": 3
   },
   "file_extension": ".py",
   "mimetype": "text/x-python",
   "name": "python",
   "nbconvert_exporter": "python",
   "pygments_lexer": "ipython3",
   "version": "3.9.13"
  }
 },
 "nbformat": 4,
 "nbformat_minor": 5
}
